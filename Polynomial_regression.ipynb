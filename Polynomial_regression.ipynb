{
  "nbformat": 4,
  "nbformat_minor": 0,
  "metadata": {
    "colab": {
      "name": "Polynomial_regression.ipynb",
      "provenance": [],
      "include_colab_link": true
    },
    "kernelspec": {
      "name": "python3",
      "display_name": "Python 3"
    },
    "accelerator": "GPU"
  },
  "cells": [
    {
      "cell_type": "markdown",
      "metadata": {
        "id": "view-in-github",
        "colab_type": "text"
      },
      "source": [
        "<a href=\"https://colab.research.google.com/github/Ajith013/AI/blob/master/Polynomial_regression.ipynb\" target=\"_parent\"><img src=\"https://colab.research.google.com/assets/colab-badge.svg\" alt=\"Open In Colab\"/></a>"
      ]
    },
    {
      "cell_type": "code",
      "metadata": {
        "id": "VLvUz1OJf_rM",
        "colab_type": "code",
        "colab": {}
      },
      "source": [
        "import numpy as np\n",
        "import matplotlib.pyplot as plt\n",
        "import keras\n",
        "from keras.models import Sequential\n",
        "from keras.layers import Dense\n",
        "from keras.optimizers import Adam"
      ],
      "execution_count": 0,
      "outputs": []
    },
    {
      "cell_type": "code",
      "metadata": {
        "id": "4b0U0yHmivxG",
        "colab_type": "code",
        "colab": {
          "base_uri": "https://localhost:8080/",
          "height": 286
        },
        "outputId": "8507220f-159e-412f-a13a-3382e01da5a1"
      },
      "source": [
        "points = 500\n",
        "X = np.linspace(-3, 3, points)\n",
        "y = np.sin(X) + np.random.uniform(-0.5,0.5,points)\n",
        "plt.scatter(X, y)"
      ],
      "execution_count": 18,
      "outputs": [
        {
          "output_type": "execute_result",
          "data": {
            "text/plain": [
              "<matplotlib.collections.PathCollection at 0x7fc36a974198>"
            ]
          },
          "metadata": {
            "tags": []
          },
          "execution_count": 18
        },
        {
          "output_type": "display_data",
          "data": {
            "image/png": "[encoded data removed]",
            "text/plain": [
              "<Figure size 432x288 with 1 Axes>"
            ]
          },
          "metadata": {
            "tags": []
          }
        }
      ]
    },
    {
      "cell_type": "code",
      "metadata": {
        "id": "rhbn75AVjJnA",
        "colab_type": "code",
        "colab": {}
      },
      "source": [
        "model = Sequential()\n",
        "model.add(Dense(50, activation = 'sigmoid', input_dim = 1))\n",
        "model.add(Dense(30,  activation = 'sigmoid'))\n",
        "model.add(Dense(1))"
      ],
      "execution_count": 0,
      "outputs": []
    },
    {
      "cell_type": "code",
      "metadata": {
        "id": "E7mc-psylcYE",
        "colab_type": "code",
        "colab": {
          "base_uri": "https://localhost:8080/",
          "height": 1000
        },
        "outputId": "ff59f721-5687-43be-9116-4cd160f9a3c1"
      },
      "source": [
        "adam = Adam(lr = 0.01)\n",
        "model.compile(loss = 'mse', optimizer = adam)\n",
        "model.fit(X,y, epochs = 50)"
      ],
      "execution_count": 23,
      "outputs": [
        {
          "output_type": "stream",
          "text": [
            "Epoch 1/50\n",
            "500/500 [==============================] - 0s 708us/step - loss: 0.4769\n",
            "Epoch 2/50\n",
            "500/500 [==============================] - 0s 141us/step - loss: 0.2512\n",
            "Epoch 3/50\n",
            "500/500 [==============================] - 0s 134us/step - loss: 0.2435\n",
            "Epoch 4/50\n",
            "500/500 [==============================] - 0s 133us/step - loss: 0.2295\n",
            "Epoch 5/50\n",
            "500/500 [==============================] - 0s 134us/step - loss: 0.2218\n",
            "Epoch 6/50\n",
            "500/500 [==============================] - 0s 136us/step - loss: 0.2176\n",
            "Epoch 7/50\n",
            "500/500 [==============================] - 0s 132us/step - loss: 0.2133\n",
            "Epoch 8/50\n",
            "500/500 [==============================] - 0s 154us/step - loss: 0.2145\n",
            "Epoch 9/50\n",
            "500/500 [==============================] - 0s 151us/step - loss: 0.1976\n",
            "Epoch 10/50\n",
            "500/500 [==============================] - 0s 144us/step - loss: 0.1873\n",
            "Epoch 11/50\n",
            "500/500 [==============================] - 0s 131us/step - loss: 0.1819\n",
            "Epoch 12/50\n",
            "500/500 [==============================] - 0s 164us/step - loss: 0.1743\n",
            "Epoch 13/50\n",
            "500/500 [==============================] - 0s 139us/step - loss: 0.1665\n",
            "Epoch 14/50\n",
            "500/500 [==============================] - 0s 127us/step - loss: 0.1480\n",
            "Epoch 15/50\n",
            "500/500 [==============================] - 0s 130us/step - loss: 0.1434\n",
            "Epoch 16/50\n",
            "500/500 [==============================] - 0s 117us/step - loss: 0.1325\n",
            "Epoch 17/50\n",
            "500/500 [==============================] - 0s 132us/step - loss: 0.1225\n",
            "Epoch 18/50\n",
            "500/500 [==============================] - 0s 150us/step - loss: 0.1200\n",
            "Epoch 19/50\n",
            "500/500 [==============================] - 0s 164us/step - loss: 0.1120\n",
            "Epoch 20/50\n",
            "500/500 [==============================] - 0s 141us/step - loss: 0.1116\n",
            "Epoch 21/50\n",
            "500/500 [==============================] - 0s 132us/step - loss: 0.1075\n",
            "Epoch 22/50\n",
            "500/500 [==============================] - 0s 115us/step - loss: 0.1038\n",
            "Epoch 23/50\n",
            "500/500 [==============================] - 0s 136us/step - loss: 0.1034\n",
            "Epoch 24/50\n",
            "500/500 [==============================] - 0s 137us/step - loss: 0.1063\n",
            "Epoch 25/50\n",
            "500/500 [==============================] - 0s 122us/step - loss: 0.0999\n",
            "Epoch 26/50\n",
            "500/500 [==============================] - 0s 162us/step - loss: 0.1003\n",
            "Epoch 27/50\n",
            "500/500 [==============================] - 0s 155us/step - loss: 0.0992\n",
            "Epoch 28/50\n",
            "500/500 [==============================] - 0s 128us/step - loss: 0.0990\n",
            "Epoch 29/50\n",
            "500/500 [==============================] - 0s 140us/step - loss: 0.1023\n",
            "Epoch 30/50\n",
            "500/500 [==============================] - 0s 172us/step - loss: 0.1069\n",
            "Epoch 31/50\n",
            "500/500 [==============================] - 0s 140us/step - loss: 0.0966\n",
            "Epoch 32/50\n",
            "500/500 [==============================] - 0s 136us/step - loss: 0.0989\n",
            "Epoch 33/50\n",
            "500/500 [==============================] - 0s 128us/step - loss: 0.0949\n",
            "Epoch 34/50\n",
            "500/500 [==============================] - 0s 127us/step - loss: 0.0981\n",
            "Epoch 35/50\n",
            "500/500 [==============================] - 0s 143us/step - loss: 0.1115\n",
            "Epoch 36/50\n",
            "500/500 [==============================] - 0s 154us/step - loss: 0.1028\n",
            "Epoch 37/50\n",
            "500/500 [==============================] - 0s 137us/step - loss: 0.1011\n",
            "Epoch 38/50\n",
            "500/500 [==============================] - 0s 133us/step - loss: 0.0997\n",
            "Epoch 39/50\n",
            "500/500 [==============================] - 0s 135us/step - loss: 0.0965\n",
            "Epoch 40/50\n",
            "500/500 [==============================] - 0s 138us/step - loss: 0.0986\n",
            "Epoch 41/50\n",
            "500/500 [==============================] - 0s 147us/step - loss: 0.0942\n",
            "Epoch 42/50\n",
            "500/500 [==============================] - 0s 141us/step - loss: 0.0948\n",
            "Epoch 43/50\n",
            "500/500 [==============================] - 0s 130us/step - loss: 0.0946\n",
            "Epoch 44/50\n",
            "500/500 [==============================] - 0s 132us/step - loss: 0.0911\n",
            "Epoch 45/50\n",
            "500/500 [==============================] - 0s 118us/step - loss: 0.0964\n",
            "Epoch 46/50\n",
            "500/500 [==============================] - 0s 141us/step - loss: 0.0936\n",
            "Epoch 47/50\n",
            "500/500 [==============================] - 0s 121us/step - loss: 0.1019\n",
            "Epoch 48/50\n",
            "500/500 [==============================] - 0s 142us/step - loss: 0.0938\n",
            "Epoch 49/50\n",
            "500/500 [==============================] - 0s 145us/step - loss: 0.0959\n",
            "Epoch 50/50\n",
            "500/500 [==============================] - 0s 135us/step - loss: 0.1043\n"
          ],
          "name": "stdout"
        },
        {
          "output_type": "execute_result",
          "data": {
            "text/plain": [
              "<keras.callbacks.History at 0x7fc361107588>"
            ]
          },
          "metadata": {
            "tags": []
          },
          "execution_count": 23
        }
      ]
    },
    {
      "cell_type": "code",
      "metadata": {
        "id": "usFlvsJGl4aV",
        "colab_type": "code",
        "colab": {
          "base_uri": "https://localhost:8080/",
          "height": 286
        },
        "outputId": "15cb017c-9958-400f-b27c-538325544771"
      },
      "source": [
        "prediction = model.predict(X)\n",
        "plt.scatter(X,y)\n",
        "plt.plot(X, prediction, 'ro')\n",
        "plt.show"
      ],
      "execution_count": 24,
      "outputs": [
        {
          "output_type": "execute_result",
          "data": {
            "text/plain": [
              "<function matplotlib.pyplot.show>"
            ]
          },
          "metadata": {
            "tags": []
          },
          "execution_count": 24
        },
        {
          "output_type": "display_data",
          "data": {
            "image/png": "[encoded data removed]",
            "text/plain": [
              "<Figure size 432x288 with 1 Axes>"
            ]
          },
          "metadata": {
            "tags": []
          }
        }
      ]
    },
    {
      "cell_type": "code",
      "metadata": {
        "id": "wgUqCQiGm0Tc",
        "colab_type": "code",
        "colab": {}
      },
      "source": [
        ""
      ],
      "execution_count": 0,
      "outputs": []
    }
  ]
}